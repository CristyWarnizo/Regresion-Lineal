{
 "cells": [
  {
   "cell_type": "code",
   "execution_count": null,
   "id": "a884f180",
   "metadata": {},
   "outputs": [],
   "source": [
    "#Prueba 1"
   ]
  },
  {
   "cell_type": "code",
   "execution_count": 25,
   "id": "29afb3cb",
   "metadata": {},
   "outputs": [],
   "source": [
    "import pandas as pd\n",
    "import numpy as np\n",
    "from sklearn.linear_model import LinearRegression\n",
    "import matplotlib.pyplot as plt\n",
    "import os"
   ]
  },
  {
   "cell_type": "code",
   "execution_count": 26,
   "id": "25010ce0",
   "metadata": {},
   "outputs": [],
   "source": [
    "Lineal = pd.read_csv(\"../Fase 2/Dataset Regresión lineal/data.csv\")"
   ]
  },
  {
   "cell_type": "code",
   "execution_count": 27,
   "id": "894a97d3",
   "metadata": {},
   "outputs": [
    {
     "data": {
      "text/html": [
       "<div>\n",
       "<style scoped>\n",
       "    .dataframe tbody tr th:only-of-type {\n",
       "        vertical-align: middle;\n",
       "    }\n",
       "\n",
       "    .dataframe tbody tr th {\n",
       "        vertical-align: top;\n",
       "    }\n",
       "\n",
       "    .dataframe thead th {\n",
       "        text-align: right;\n",
       "    }\n",
       "</style>\n",
       "<table border=\"1\" class=\"dataframe\">\n",
       "  <thead>\n",
       "    <tr style=\"text-align: right;\">\n",
       "      <th></th>\n",
       "      <th>metro</th>\n",
       "      <th>precio</th>\n",
       "    </tr>\n",
       "  </thead>\n",
       "  <tbody>\n",
       "    <tr>\n",
       "      <th>0</th>\n",
       "      <td>5</td>\n",
       "      <td>375</td>\n",
       "    </tr>\n",
       "    <tr>\n",
       "      <th>1</th>\n",
       "      <td>15</td>\n",
       "      <td>487</td>\n",
       "    </tr>\n",
       "    <tr>\n",
       "      <th>2</th>\n",
       "      <td>20</td>\n",
       "      <td>450</td>\n",
       "    </tr>\n",
       "    <tr>\n",
       "      <th>3</th>\n",
       "      <td>25</td>\n",
       "      <td>500</td>\n",
       "    </tr>\n",
       "  </tbody>\n",
       "</table>\n",
       "</div>"
      ],
      "text/plain": [
       "   metro  precio\n",
       "0      5     375\n",
       "1     15     487\n",
       "2     20     450\n",
       "3     25     500"
      ]
     },
     "execution_count": 27,
     "metadata": {},
     "output_type": "execute_result"
    }
   ],
   "source": [
    "Lineal.head(5)"
   ]
  },
  {
   "cell_type": "code",
   "execution_count": 28,
   "id": "c3e2a6ae",
   "metadata": {},
   "outputs": [
    {
     "name": "stdout",
     "output_type": "stream",
     "text": [
      "Coeficiente: 5.645714285714287\n",
      "Intercepto: 361.25714285714287\n"
     ]
    },
    {
     "data": {
      "image/png": "[encoded data removed]",
      "text/plain": [
       "<Figure size 640x480 with 1 Axes>"
      ]
     },
     "metadata": {},
     "output_type": "display_data"
    }
   ],
   "source": [
    "\n",
    "X = Lineal[['metro']]  \n",
    "y = Lineal['precio']  \n",
    "\n",
    "\n",
    "modelo_lineal = LinearRegression()\n",
    "\n",
    "\n",
    "modelo_lineal.fit(X, y)\n",
    "\n",
    "\n",
    "coeficiente = modelo_lineal.coef_[0]\n",
    "intercepto = modelo_lineal.intercept_\n",
    "\n",
    "\n",
    "print(f\"Coeficiente: {coeficiente}\")\n",
    "print(f\"Intercepto: {intercepto}\")\n",
    "\n",
    "\n",
    "prediccion = modelo_lineal.predict(X)\n",
    "\n",
    "\n",
    "plt.scatter(X, y, label='Datos Originales')\n",
    "plt.plot(X, prediccion, color='red', linewidth=2, label='Línea de Regresión')\n",
    "plt.xlabel('Metro')\n",
    "plt.ylabel('Precio')\n",
    "plt.legend()\n",
    "plt.show()"
   ]
  },
  {
   "cell_type": "code",
   "execution_count": null,
   "id": "90978d21",
   "metadata": {},
   "outputs": [],
   "source": [
    "#Prueba 2"
   ]
  },
  {
   "cell_type": "code",
   "execution_count": 29,
   "id": "59d42538",
   "metadata": {},
   "outputs": [
    {
     "data": {
      "text/html": [
       "<div>\n",
       "<style scoped>\n",
       "    .dataframe tbody tr th:only-of-type {\n",
       "        vertical-align: middle;\n",
       "    }\n",
       "\n",
       "    .dataframe tbody tr th {\n",
       "        vertical-align: top;\n",
       "    }\n",
       "\n",
       "    .dataframe thead th {\n",
       "        text-align: right;\n",
       "    }\n",
       "</style>\n",
       "<table border=\"1\" class=\"dataframe\">\n",
       "  <thead>\n",
       "    <tr style=\"text-align: right;\">\n",
       "      <th></th>\n",
       "      <th>metro</th>\n",
       "      <th>precio</th>\n",
       "    </tr>\n",
       "  </thead>\n",
       "  <tbody>\n",
       "    <tr>\n",
       "      <th>0</th>\n",
       "      <td>5</td>\n",
       "      <td>375</td>\n",
       "    </tr>\n",
       "    <tr>\n",
       "      <th>1</th>\n",
       "      <td>15</td>\n",
       "      <td>487</td>\n",
       "    </tr>\n",
       "  </tbody>\n",
       "</table>\n",
       "</div>"
      ],
      "text/plain": [
       "   metro  precio\n",
       "0      5     375\n",
       "1     15     487"
      ]
     },
     "execution_count": 29,
     "metadata": {},
     "output_type": "execute_result"
    }
   ],
   "source": [
    "Lineal_i = pd.read_csv(filepath_or_buffer = \"/Users/Cristy/Desktop/Universidad/6 Semestre/Analisis de datos/Fase 2/Dataset Regresión lineal/data.csv\")\n",
    "Lineal_i.head(2)"
   ]
  },
  {
   "cell_type": "code",
   "execution_count": 30,
   "id": "07386dc8",
   "metadata": {},
   "outputs": [
    {
     "name": "stdout",
     "output_type": "stream",
     "text": [
      "Coeficiente para el subset: 11.199999999999998\n",
      "Intercepto para el subset: 319.0\n"
     ]
    },
    {
     "data": {
      "image/png": "[encoded data removed]",
      "text/plain": [
       "<Figure size 640x480 with 1 Axes>"
      ]
     },
     "metadata": {},
     "output_type": "display_data"
    }
   ],
   "source": [
    "\n",
    "datos_subset = Lineal_i.head(2)\n",
    "\n",
    "\n",
    "X_subset = datos_subset[['metro']]\n",
    "y_subset = datos_subset['precio']\n",
    "\n",
    "\n",
    "modelo_lineal_subset = LinearRegression()\n",
    "\n",
    "\n",
    "modelo_lineal_subset.fit(X_subset, y_subset)\n",
    "\n",
    "\n",
    "coeficiente_subset = modelo_lineal_subset.coef_[0]\n",
    "intercepto_subset = modelo_lineal_subset.intercept_\n",
    "\n",
    "\n",
    "print(f\"Coeficiente para el subset: {coeficiente_subset}\")\n",
    "print(f\"Intercepto para el subset: {intercepto_subset}\")\n",
    "\n",
    "\n",
    "prediccion_subset = modelo_lineal_subset.predict(X_subset)\n",
    "\n",
    "\n",
    "plt.scatter(X_subset, y_subset, label='Datos Originales (Subset)', color='pink')\n",
    "plt.plot(X_subset, prediccion_subset, color='purple', linewidth=2, label='Línea de Regresión (Subset)')\n",
    "plt.xlabel('Metro')\n",
    "plt.ylabel('Precio')\n",
    "plt.legend()\n",
    "plt.show()"
   ]
  },
  {
   "cell_type": "code",
   "execution_count": null,
   "id": "76797864",
   "metadata": {},
   "outputs": [],
   "source": [
    "#Otra forma de importar"
   ]
  },
  {
   "cell_type": "code",
   "execution_count": 31,
   "id": "2b25577e",
   "metadata": {},
   "outputs": [],
   "source": [
    "mainpath = \"/Users/Cristy\"\n",
    "filename =\"Desktop/Universidad/6 Semestre/Analisis de datos/Fase 2/Dataset Regresión lineal/data.csv\"\n",
    "fullpath = os.path.join(mainpath,filename)"
   ]
  },
  {
   "cell_type": "code",
   "execution_count": 32,
   "id": "218d67ab",
   "metadata": {},
   "outputs": [],
   "source": [
    "Lineal_ii = pd.read_csv(fullpath)"
   ]
  },
  {
   "cell_type": "code",
   "execution_count": 33,
   "id": "527a6e43",
   "metadata": {},
   "outputs": [
    {
     "data": {
      "text/html": [
       "<div>\n",
       "<style scoped>\n",
       "    .dataframe tbody tr th:only-of-type {\n",
       "        vertical-align: middle;\n",
       "    }\n",
       "\n",
       "    .dataframe tbody tr th {\n",
       "        vertical-align: top;\n",
       "    }\n",
       "\n",
       "    .dataframe thead th {\n",
       "        text-align: right;\n",
       "    }\n",
       "</style>\n",
       "<table border=\"1\" class=\"dataframe\">\n",
       "  <thead>\n",
       "    <tr style=\"text-align: right;\">\n",
       "      <th></th>\n",
       "      <th>metro</th>\n",
       "      <th>precio</th>\n",
       "    </tr>\n",
       "  </thead>\n",
       "  <tbody>\n",
       "    <tr>\n",
       "      <th>0</th>\n",
       "      <td>5</td>\n",
       "      <td>375</td>\n",
       "    </tr>\n",
       "    <tr>\n",
       "      <th>1</th>\n",
       "      <td>15</td>\n",
       "      <td>487</td>\n",
       "    </tr>\n",
       "    <tr>\n",
       "      <th>2</th>\n",
       "      <td>20</td>\n",
       "      <td>450</td>\n",
       "    </tr>\n",
       "    <tr>\n",
       "      <th>3</th>\n",
       "      <td>25</td>\n",
       "      <td>500</td>\n",
       "    </tr>\n",
       "  </tbody>\n",
       "</table>\n",
       "</div>"
      ],
      "text/plain": [
       "   metro  precio\n",
       "0      5     375\n",
       "1     15     487\n",
       "2     20     450\n",
       "3     25     500"
      ]
     },
     "execution_count": 33,
     "metadata": {},
     "output_type": "execute_result"
    }
   ],
   "source": [
    "Lineal_ii.head(10)"
   ]
  },
  {
   "cell_type": "code",
   "execution_count": null,
   "id": "348468c5",
   "metadata": {},
   "outputs": [],
   "source": []
  }
 ],
 "metadata": {
  "kernelspec": {
   "display_name": "Python 3 (ipykernel)",
   "language": "python",
   "name": "python3"
  },
  "language_info": {
   "codemirror_mode": {
    "name": "ipython",
    "version": 3
   },
   "file_extension": ".py",
   "mimetype": "text/x-python",
   "name": "python",
   "nbconvert_exporter": "python",
   "pygments_lexer": "ipython3",
   "version": "3.11.4"
  }
 },
 "nbformat": 4,
 "nbformat_minor": 5
}
